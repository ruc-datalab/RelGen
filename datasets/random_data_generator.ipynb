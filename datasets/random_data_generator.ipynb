{
 "cells": [
  {
   "cell_type": "markdown",
   "source": [
    "# 单表数据"
   ],
   "metadata": {
    "collapsed": false
   }
  },
  {
   "cell_type": "code",
   "execution_count": 1,
   "outputs": [],
   "source": [
    "import random\n",
    "import string\n",
    "import pandas as pd\n",
    "\n",
    "str_len = 3\n",
    "num_strings = 100\n",
    "random_strings = [''.join(random.choices(string.ascii_letters, k=str_len)) for _ in range(num_strings)]\n",
    "\n",
    "start_num = 20\n",
    "end_num = 50\n",
    "num_integers = 100\n",
    "random_integers = [random.randint(start_num, end_num) for _ in range(num_integers)]\n",
    "\n",
    "student = pd.DataFrame({\n",
    "    \"id\": range(100),\n",
    "    \"name\": random_strings,\n",
    "    \"age\": random_integers\n",
    "})\n",
    "student.to_csv(\"single_table_demo/data.csv\", index=None)"
   ],
   "metadata": {
    "collapsed": false,
    "ExecuteTime": {
     "end_time": "2024-04-22T15:17:04.179462Z",
     "start_time": "2024-04-22T15:17:03.902408Z"
    }
   }
  },
  {
   "cell_type": "markdown",
   "source": [
    "# 多表数据"
   ],
   "metadata": {
    "collapsed": false
   }
  },
  {
   "cell_type": "code",
   "execution_count": 2,
   "outputs": [],
   "source": [
    "import random\n",
    "import string\n",
    "import pandas as pd\n",
    "\n",
    "# table 1\n",
    "str_len = 3\n",
    "num_strings = 100\n",
    "random_strings = [''.join(random.choices(string.ascii_letters, k=str_len)) for _ in range(num_strings)]\n",
    "\n",
    "start_num = 20\n",
    "end_num = 50\n",
    "num_integers = 100\n",
    "random_integers = [random.randint(start_num, end_num) for _ in range(num_integers)]\n",
    "\n",
    "table1 = pd.DataFrame({\n",
    "    \"id1\": range(100),\n",
    "    \"name1\": random_strings,\n",
    "    \"age1\": random_integers,\n",
    "    \"id12\": list(range(20)) * 5,\n",
    "    \"id13\": list(range(50)) * 2\n",
    "})\n",
    "table1.to_csv(\"multi_table_demo/table1.csv\", index=None)\n",
    "\n",
    "# table 2\n",
    "str_len = 3\n",
    "num_strings = 20\n",
    "random_strings = [''.join(random.choices(string.ascii_letters, k=str_len)) for _ in range(num_strings)]\n",
    "\n",
    "start_num = 20\n",
    "end_num = 50\n",
    "num_integers = 20\n",
    "random_integers = [random.randint(start_num, end_num) for _ in range(num_integers)]\n",
    "\n",
    "table2 = pd.DataFrame({\n",
    "    \"id21\": range(20),\n",
    "    \"name2\": random_strings,\n",
    "    \"age2\": random_integers,\n",
    "})\n",
    "table2.to_csv(\"multi_table_demo/table2.csv\", index=None)\n",
    "\n",
    "# table 3\n",
    "str_len = 3\n",
    "num_strings = 50\n",
    "random_strings = [''.join(random.choices(string.ascii_letters, k=str_len)) for _ in range(num_strings)]\n",
    "\n",
    "start_num = 20\n",
    "end_num = 50\n",
    "num_integers = 50\n",
    "random_integers = [random.randint(start_num, end_num) for _ in range(num_integers)]\n",
    "\n",
    "table3 = pd.DataFrame({\n",
    "    \"id31\": range(50),\n",
    "    \"name3\": random_strings,\n",
    "    \"age3\": random_integers,\n",
    "})\n",
    "table3.to_csv(\"multi_table_demo/table3.csv\", index=None)"
   ],
   "metadata": {
    "collapsed": false,
    "ExecuteTime": {
     "end_time": "2024-04-22T15:49:48.011846Z",
     "start_time": "2024-04-22T15:49:48.005113Z"
    }
   }
  },
  {
   "cell_type": "code",
   "execution_count": null,
   "outputs": [],
   "source": [],
   "metadata": {
    "collapsed": false
   }
  }
 ],
 "metadata": {
  "kernelspec": {
   "display_name": "Python 3",
   "language": "python",
   "name": "python3"
  },
  "language_info": {
   "codemirror_mode": {
    "name": "ipython",
    "version": 2
   },
   "file_extension": ".py",
   "mimetype": "text/x-python",
   "name": "python",
   "nbconvert_exporter": "python",
   "pygments_lexer": "ipython2",
   "version": "2.7.6"
  }
 },
 "nbformat": 4,
 "nbformat_minor": 0
}
