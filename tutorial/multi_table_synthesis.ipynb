{
 "cells": [
  {
   "cell_type": "code",
   "execution_count": 1,
   "metadata": {
    "ExecuteTime": {
     "end_time": "2024-08-12T04:07:10.368283Z",
     "start_time": "2024-08-12T04:07:10.361337Z"
    }
   },
   "outputs": [],
   "source": [
    "import sys\n",
    "sys.path.append(\"../\")\n",
    "import warnings\n",
    "warnings.filterwarnings(\"ignore\")\n",
    "warnings.simplefilter('ignore')"
   ]
  },
  {
   "cell_type": "markdown",
   "metadata": {},
   "source": [
    "# 1. Load metadata"
   ]
  },
  {
   "cell_type": "code",
   "execution_count": 2,
   "metadata": {
    "ExecuteTime": {
     "end_time": "2024-08-12T04:07:11.901071Z",
     "start_time": "2024-08-12T04:07:10.369837Z"
    }
   },
   "outputs": [
    {
     "name": "stdout",
     "output_type": "stream",
     "text": [
      "tables:\n",
      "{'table1': {'columns': {'id1': {'type': 'id'}, 'name1': {'type': 'categorical'}, 'age1': {'type': 'numerical'}, 'id12': {'type': 'id'}, 'id13': {'type': 'id'}}, 'primary_key': 'id1'}, 'table2': {'columns': {'id21': {'type': 'id'}, 'name2': {'type': 'categorical'}, 'age2': {'type': 'numerical'}}, 'primary_key': 'id21'}, 'table3': {'columns': {'id31': {'type': 'id'}, 'name3': {'type': 'categorical'}, 'age3': {'type': 'numerical'}}, 'primary_key': 'id31'}}\n",
      "relationships:\n",
      "[{'parent_table_name': 'table1', 'child_table_name': 'table2', 'parent_foreign_key': 'id12', 'child_primary_key': 'id21'}, {'parent_table_name': 'table1', 'child_table_name': 'table3', 'parent_foreign_key': 'id13', 'child_primary_key': 'id31'}]\n"
     ]
    }
   ],
   "source": [
    "from relgen.data.metadata import Metadata\n",
    "\n",
    "metadata = Metadata()\n",
    "metadata.load_from_json(\"../datasets/multi_table_demo/metadata.json\")\n",
    "\n",
    "print(metadata)"
   ]
  },
  {
   "cell_type": "markdown",
   "metadata": {},
   "source": [
    "# 2. Load data"
   ]
  },
  {
   "cell_type": "code",
   "execution_count": 3,
   "metadata": {
    "ExecuteTime": {
     "end_time": "2024-08-12T04:07:11.920879Z",
     "start_time": "2024-08-12T04:07:11.901968Z"
    }
   },
   "outputs": [
    {
     "data": {
      "text/html": [
       "<div>\n",
       "<style scoped>\n",
       "    .dataframe tbody tr th:only-of-type {\n",
       "        vertical-align: middle;\n",
       "    }\n",
       "\n",
       "    .dataframe tbody tr th {\n",
       "        vertical-align: top;\n",
       "    }\n",
       "\n",
       "    .dataframe thead th {\n",
       "        text-align: right;\n",
       "    }\n",
       "</style>\n",
       "<table border=\"1\" class=\"dataframe\">\n",
       "  <thead>\n",
       "    <tr style=\"text-align: right;\">\n",
       "      <th></th>\n",
       "      <th>id1</th>\n",
       "      <th>name1</th>\n",
       "      <th>age1</th>\n",
       "      <th>id12</th>\n",
       "      <th>id13</th>\n",
       "      <th>id21</th>\n",
       "      <th>name2</th>\n",
       "      <th>age2</th>\n",
       "      <th>id31</th>\n",
       "      <th>name3</th>\n",
       "      <th>age3</th>\n",
       "    </tr>\n",
       "  </thead>\n",
       "  <tbody>\n",
       "    <tr>\n",
       "      <th>0</th>\n",
       "      <td>0</td>\n",
       "      <td>tha</td>\n",
       "      <td>28</td>\n",
       "      <td>0</td>\n",
       "      <td>0</td>\n",
       "      <td>0</td>\n",
       "      <td>VQK</td>\n",
       "      <td>42</td>\n",
       "      <td>0</td>\n",
       "      <td>iQw</td>\n",
       "      <td>44</td>\n",
       "    </tr>\n",
       "    <tr>\n",
       "      <th>1</th>\n",
       "      <td>50</td>\n",
       "      <td>mTL</td>\n",
       "      <td>32</td>\n",
       "      <td>10</td>\n",
       "      <td>0</td>\n",
       "      <td>10</td>\n",
       "      <td>ieg</td>\n",
       "      <td>46</td>\n",
       "      <td>0</td>\n",
       "      <td>iQw</td>\n",
       "      <td>44</td>\n",
       "    </tr>\n",
       "    <tr>\n",
       "      <th>2</th>\n",
       "      <td>20</td>\n",
       "      <td>xRJ</td>\n",
       "      <td>43</td>\n",
       "      <td>0</td>\n",
       "      <td>20</td>\n",
       "      <td>0</td>\n",
       "      <td>VQK</td>\n",
       "      <td>42</td>\n",
       "      <td>20</td>\n",
       "      <td>rHZ</td>\n",
       "      <td>35</td>\n",
       "    </tr>\n",
       "    <tr>\n",
       "      <th>3</th>\n",
       "      <td>70</td>\n",
       "      <td>Iai</td>\n",
       "      <td>34</td>\n",
       "      <td>10</td>\n",
       "      <td>20</td>\n",
       "      <td>10</td>\n",
       "      <td>ieg</td>\n",
       "      <td>46</td>\n",
       "      <td>20</td>\n",
       "      <td>rHZ</td>\n",
       "      <td>35</td>\n",
       "    </tr>\n",
       "    <tr>\n",
       "      <th>4</th>\n",
       "      <td>40</td>\n",
       "      <td>kiJ</td>\n",
       "      <td>29</td>\n",
       "      <td>0</td>\n",
       "      <td>40</td>\n",
       "      <td>0</td>\n",
       "      <td>VQK</td>\n",
       "      <td>42</td>\n",
       "      <td>40</td>\n",
       "      <td>XeK</td>\n",
       "      <td>23</td>\n",
       "    </tr>\n",
       "    <tr>\n",
       "      <th>5</th>\n",
       "      <td>90</td>\n",
       "      <td>wOF</td>\n",
       "      <td>48</td>\n",
       "      <td>10</td>\n",
       "      <td>40</td>\n",
       "      <td>10</td>\n",
       "      <td>ieg</td>\n",
       "      <td>46</td>\n",
       "      <td>40</td>\n",
       "      <td>XeK</td>\n",
       "      <td>23</td>\n",
       "    </tr>\n",
       "    <tr>\n",
       "      <th>6</th>\n",
       "      <td>60</td>\n",
       "      <td>fuB</td>\n",
       "      <td>28</td>\n",
       "      <td>0</td>\n",
       "      <td>10</td>\n",
       "      <td>0</td>\n",
       "      <td>VQK</td>\n",
       "      <td>42</td>\n",
       "      <td>10</td>\n",
       "      <td>iRh</td>\n",
       "      <td>27</td>\n",
       "    </tr>\n",
       "    <tr>\n",
       "      <th>7</th>\n",
       "      <td>10</td>\n",
       "      <td>cRB</td>\n",
       "      <td>22</td>\n",
       "      <td>10</td>\n",
       "      <td>10</td>\n",
       "      <td>10</td>\n",
       "      <td>ieg</td>\n",
       "      <td>46</td>\n",
       "      <td>10</td>\n",
       "      <td>iRh</td>\n",
       "      <td>27</td>\n",
       "    </tr>\n",
       "    <tr>\n",
       "      <th>8</th>\n",
       "      <td>80</td>\n",
       "      <td>AWi</td>\n",
       "      <td>42</td>\n",
       "      <td>0</td>\n",
       "      <td>30</td>\n",
       "      <td>0</td>\n",
       "      <td>VQK</td>\n",
       "      <td>42</td>\n",
       "      <td>30</td>\n",
       "      <td>llU</td>\n",
       "      <td>20</td>\n",
       "    </tr>\n",
       "    <tr>\n",
       "      <th>9</th>\n",
       "      <td>30</td>\n",
       "      <td>sxK</td>\n",
       "      <td>24</td>\n",
       "      <td>10</td>\n",
       "      <td>30</td>\n",
       "      <td>10</td>\n",
       "      <td>ieg</td>\n",
       "      <td>46</td>\n",
       "      <td>30</td>\n",
       "      <td>llU</td>\n",
       "      <td>20</td>\n",
       "    </tr>\n",
       "  </tbody>\n",
       "</table>\n",
       "</div>"
      ],
      "text/plain": [
       "   id1 name1  age1  id12  id13  id21 name2  age2  id31 name3  age3\n",
       "0    0   tha    28     0     0     0   VQK    42     0   iQw    44\n",
       "1   50   mTL    32    10     0    10   ieg    46     0   iQw    44\n",
       "2   20   xRJ    43     0    20     0   VQK    42    20   rHZ    35\n",
       "3   70   Iai    34    10    20    10   ieg    46    20   rHZ    35\n",
       "4   40   kiJ    29     0    40     0   VQK    42    40   XeK    23\n",
       "5   90   wOF    48    10    40    10   ieg    46    40   XeK    23\n",
       "6   60   fuB    28     0    10     0   VQK    42    10   iRh    27\n",
       "7   10   cRB    22    10    10    10   ieg    46    10   iRh    27\n",
       "8   80   AWi    42     0    30     0   VQK    42    30   llU    20\n",
       "9   30   sxK    24    10    30    10   ieg    46    30   llU    20"
      ]
     },
     "execution_count": 3,
     "metadata": {},
     "output_type": "execute_result"
    }
   ],
   "source": [
    "import pandas as pd\n",
    "\n",
    "data = {\n",
    "    \"table1\": pd.read_csv(\"../datasets/multi_table_demo/table1.csv\"),\n",
    "    \"table2\": pd.read_csv(\"../datasets/multi_table_demo/table2.csv\"),\n",
    "    \"table3\": pd.read_csv(\"../datasets/multi_table_demo/table3.csv\")\n",
    "}\n",
    "\n",
    "merged_data = pd.merge(pd.merge(data[\"table1\"], data[\"table2\"], left_on=\"id12\", right_on=\"id21\"), data[\"table3\"], left_on=\"id13\", right_on=\"id31\")\n",
    "merged_data.head(10)"
   ]
  },
  {
   "cell_type": "markdown",
   "metadata": {},
   "source": [
    "# 3. Data Conversion"
   ]
  },
  {
   "cell_type": "code",
   "execution_count": 4,
   "metadata": {
    "ExecuteTime": {
     "end_time": "2024-08-12T04:07:11.996643Z",
     "start_time": "2024-08-12T04:07:11.921798Z"
    }
   },
   "outputs": [],
   "source": [
    "from relgen.data.dataset import Dataset\n",
    "\n",
    "dataset = Dataset(metadata)\n",
    "dataset.fit(data)"
   ]
  },
  {
   "cell_type": "markdown",
   "metadata": {},
   "source": [
    "# 4. Data synthesizer"
   ]
  },
  {
   "cell_type": "code",
   "execution_count": 15,
   "metadata": {
    "ExecuteTime": {
     "end_time": "2024-08-12T04:08:59.109323Z",
     "start_time": "2024-08-12T04:08:53.369361Z"
    }
   },
   "outputs": [
    {
     "name": "stderr",
     "output_type": "stream",
     "text": [
      "table table1 start training\n",
      "epoch 0: train loss 19.745, time cost 0.018s\n",
      "epoch 1: train loss 19.628, time cost 0.015s\n",
      "epoch 2: train loss 19.531, time cost 0.014s\n",
      "epoch 3: train loss 19.544, time cost 0.015s\n",
      "epoch 4: train loss 19.252, time cost 0.013s\n",
      "epoch 5: train loss 19.197, time cost 0.012s\n",
      "epoch 6: train loss 19.384, time cost 0.013s\n",
      "epoch 7: train loss 18.840, time cost 0.011s\n",
      "epoch 8: train loss 18.979, time cost 0.011s\n",
      "epoch 9: train loss 19.035, time cost 0.011s\n",
      "epoch 10: train loss 18.502, time cost 0.011s\n",
      "epoch 11: train loss 18.815, time cost 0.010s\n",
      "epoch 12: train loss 18.332, time cost 0.011s\n",
      "epoch 13: train loss 18.943, time cost 0.012s\n",
      "epoch 14: train loss 18.501, time cost 0.011s\n",
      "epoch 15: train loss 18.151, time cost 0.010s\n",
      "epoch 16: train loss 18.649, time cost 0.009s\n",
      "epoch 17: train loss 18.773, time cost 0.009s\n",
      "epoch 18: train loss 18.958, time cost 0.010s\n",
      "epoch 19: train loss 18.734, time cost 0.009s\n",
      "epoch 20: train loss 17.815, time cost 0.010s\n",
      "epoch 21: train loss 18.676, time cost 0.010s\n",
      "epoch 22: train loss 18.138, time cost 0.009s\n",
      "epoch 23: train loss 17.782, time cost 0.011s\n",
      "epoch 24: train loss 17.852, time cost 0.011s\n",
      "epoch 25: train loss 16.923, time cost 0.008s\n",
      "epoch 26: train loss 16.800, time cost 0.009s\n",
      "epoch 27: train loss 17.793, time cost 0.008s\n",
      "epoch 28: train loss 18.446, time cost 0.009s\n",
      "epoch 29: train loss 16.989, time cost 0.008s\n",
      "epoch 30: train loss 18.705, time cost 0.009s\n",
      "epoch 31: train loss 16.628, time cost 0.008s\n",
      "epoch 32: train loss 17.831, time cost 0.008s\n",
      "epoch 33: train loss 16.400, time cost 0.008s\n",
      "epoch 34: train loss 17.655, time cost 0.009s\n",
      "epoch 35: train loss 16.535, time cost 0.008s\n",
      "epoch 36: train loss 15.904, time cost 0.007s\n",
      "epoch 37: train loss 15.902, time cost 0.008s\n",
      "epoch 38: train loss 15.804, time cost 0.008s\n",
      "epoch 39: train loss 16.497, time cost 0.008s\n",
      "epoch 40: train loss 17.868, time cost 0.008s\n",
      "epoch 41: train loss 13.834, time cost 0.009s\n",
      "epoch 42: train loss 15.101, time cost 0.010s\n",
      "epoch 43: train loss 17.076, time cost 0.012s\n",
      "epoch 44: train loss 16.779, time cost 0.012s\n",
      "epoch 45: train loss 13.441, time cost 0.011s\n",
      "epoch 46: train loss 13.547, time cost 0.008s\n",
      "epoch 47: train loss 17.115, time cost 0.010s\n",
      "epoch 48: train loss 15.212, time cost 0.009s\n",
      "epoch 49: train loss 17.331, time cost 0.020s\n",
      "epoch 50: train loss 16.304, time cost 0.019s\n",
      "epoch 51: train loss 14.711, time cost 0.018s\n",
      "epoch 52: train loss 14.347, time cost 0.011s\n",
      "epoch 53: train loss 17.734, time cost 0.017s\n",
      "epoch 54: train loss 13.920, time cost 0.016s\n",
      "epoch 55: train loss 15.349, time cost 0.010s\n",
      "epoch 56: train loss 12.342, time cost 0.024s\n",
      "epoch 57: train loss 14.196, time cost 0.012s\n",
      "epoch 58: train loss 11.079, time cost 0.014s\n",
      "epoch 59: train loss 14.707, time cost 0.016s\n",
      "epoch 60: train loss 11.588, time cost 0.010s\n",
      "epoch 61: train loss 14.416, time cost 0.014s\n",
      "epoch 62: train loss 15.864, time cost 0.011s\n",
      "epoch 63: train loss 10.268, time cost 0.013s\n",
      "epoch 64: train loss 11.797, time cost 0.011s\n",
      "epoch 65: train loss 15.018, time cost 0.011s\n",
      "epoch 66: train loss 13.505, time cost 0.016s\n",
      "epoch 67: train loss 12.606, time cost 0.014s\n",
      "epoch 68: train loss 13.847, time cost 0.019s\n",
      "epoch 69: train loss 11.528, time cost 0.017s\n",
      "epoch 70: train loss 12.524, time cost 0.012s\n",
      "epoch 71: train loss 13.766, time cost 0.012s\n",
      "epoch 72: train loss 15.394, time cost 0.017s\n",
      "epoch 73: train loss 14.733, time cost 0.011s\n",
      "epoch 74: train loss 11.825, time cost 0.021s\n",
      "epoch 75: train loss 13.952, time cost 0.020s\n",
      "epoch 76: train loss 12.059, time cost 0.016s\n",
      "epoch 77: train loss 8.966, time cost 0.012s\n",
      "epoch 78: train loss 14.796, time cost 0.015s\n",
      "epoch 79: train loss 10.770, time cost 0.016s\n",
      "epoch 80: train loss 15.547, time cost 0.012s\n",
      "epoch 81: train loss 9.928, time cost 0.017s\n",
      "epoch 82: train loss 11.956, time cost 0.015s\n",
      "epoch 83: train loss 8.541, time cost 0.012s\n",
      "epoch 84: train loss 13.140, time cost 0.016s\n",
      "epoch 85: train loss 8.942, time cost 0.015s\n",
      "epoch 86: train loss 9.539, time cost 0.012s\n",
      "epoch 87: train loss 10.951, time cost 0.015s\n",
      "epoch 88: train loss 12.962, time cost 0.018s\n",
      "epoch 89: train loss 13.356, time cost 0.010s\n",
      "epoch 90: train loss 12.057, time cost 0.016s\n",
      "epoch 91: train loss 13.818, time cost 0.010s\n",
      "epoch 92: train loss 13.326, time cost 0.012s\n",
      "epoch 93: train loss 8.642, time cost 0.015s\n",
      "epoch 94: train loss 10.732, time cost 0.011s\n",
      "epoch 95: train loss 14.857, time cost 0.017s\n",
      "epoch 96: train loss 14.233, time cost 0.012s\n",
      "epoch 97: train loss 12.306, time cost 0.013s\n",
      "epoch 98: train loss 10.877, time cost 0.016s\n",
      "epoch 99: train loss 8.712, time cost 0.011s\n",
      "table table1 training completed, time cost 1.337s\n",
      "table table1<join>table2 start training\n",
      "epoch 0: train loss 28.181, time cost 0.021s\n",
      "epoch 1: train loss 28.540, time cost 0.023s\n",
      "epoch 2: train loss 28.416, time cost 0.022s\n",
      "epoch 3: train loss 28.111, time cost 0.026s\n",
      "epoch 4: train loss 27.917, time cost 0.022s\n",
      "epoch 5: train loss 27.835, time cost 0.021s\n",
      "epoch 6: train loss 27.654, time cost 0.018s\n",
      "epoch 7: train loss 27.796, time cost 0.020s\n",
      "epoch 8: train loss 27.568, time cost 0.019s\n",
      "epoch 9: train loss 27.226, time cost 0.021s\n",
      "epoch 10: train loss 27.027, time cost 0.019s\n",
      "epoch 11: train loss 26.487, time cost 0.023s\n",
      "epoch 12: train loss 27.158, time cost 0.017s\n",
      "epoch 13: train loss 27.125, time cost 0.016s\n",
      "epoch 14: train loss 27.030, time cost 0.020s\n",
      "epoch 15: train loss 26.456, time cost 0.020s\n",
      "epoch 16: train loss 25.743, time cost 0.023s\n",
      "epoch 17: train loss 27.279, time cost 0.028s\n",
      "epoch 18: train loss 25.793, time cost 0.023s\n",
      "epoch 19: train loss 26.113, time cost 0.021s\n",
      "epoch 20: train loss 25.440, time cost 0.022s\n",
      "epoch 21: train loss 26.883, time cost 0.021s\n",
      "epoch 22: train loss 25.906, time cost 0.021s\n",
      "epoch 23: train loss 24.731, time cost 0.019s\n",
      "epoch 24: train loss 24.971, time cost 0.020s\n",
      "epoch 25: train loss 25.756, time cost 0.022s\n",
      "epoch 26: train loss 25.639, time cost 0.022s\n",
      "epoch 27: train loss 23.582, time cost 0.018s\n",
      "epoch 28: train loss 23.627, time cost 0.015s\n",
      "epoch 29: train loss 24.459, time cost 0.022s\n",
      "epoch 30: train loss 23.223, time cost 0.023s\n",
      "epoch 31: train loss 23.333, time cost 0.020s\n",
      "epoch 32: train loss 24.717, time cost 0.023s\n",
      "epoch 33: train loss 23.434, time cost 0.021s\n",
      "epoch 34: train loss 24.102, time cost 0.022s\n",
      "epoch 35: train loss 25.875, time cost 0.023s\n",
      "epoch 36: train loss 24.029, time cost 0.020s\n",
      "epoch 37: train loss 26.590, time cost 0.020s\n",
      "epoch 38: train loss 24.806, time cost 0.014s\n",
      "epoch 39: train loss 23.258, time cost 0.018s\n",
      "epoch 40: train loss 22.513, time cost 0.019s\n",
      "epoch 41: train loss 24.070, time cost 0.020s\n",
      "epoch 42: train loss 22.239, time cost 0.019s\n",
      "epoch 43: train loss 25.633, time cost 0.021s\n",
      "epoch 44: train loss 25.286, time cost 0.014s\n",
      "epoch 45: train loss 20.382, time cost 0.015s\n",
      "epoch 46: train loss 19.955, time cost 0.020s\n",
      "epoch 47: train loss 22.724, time cost 0.022s\n",
      "epoch 48: train loss 20.045, time cost 0.018s\n",
      "epoch 49: train loss 21.756, time cost 0.021s\n",
      "epoch 50: train loss 21.492, time cost 0.023s\n",
      "epoch 51: train loss 19.504, time cost 0.023s\n",
      "epoch 52: train loss 20.426, time cost 0.021s\n",
      "epoch 53: train loss 18.332, time cost 0.020s\n",
      "epoch 54: train loss 19.532, time cost 0.019s\n",
      "epoch 55: train loss 17.400, time cost 0.020s\n",
      "epoch 56: train loss 18.509, time cost 0.022s\n",
      "epoch 57: train loss 21.635, time cost 0.014s\n",
      "epoch 58: train loss 22.154, time cost 0.021s\n",
      "epoch 59: train loss 18.003, time cost 0.028s\n",
      "epoch 60: train loss 20.676, time cost 0.020s\n",
      "epoch 61: train loss 16.793, time cost 0.029s\n",
      "epoch 62: train loss 17.384, time cost 0.018s\n",
      "epoch 63: train loss 20.580, time cost 0.014s\n",
      "epoch 64: train loss 16.467, time cost 0.021s\n",
      "epoch 65: train loss 15.114, time cost 0.022s\n",
      "epoch 66: train loss 22.304, time cost 0.022s\n",
      "epoch 67: train loss 20.902, time cost 0.024s\n",
      "epoch 68: train loss 19.221, time cost 0.015s\n",
      "epoch 69: train loss 19.872, time cost 0.021s\n",
      "epoch 70: train loss 16.908, time cost 0.021s\n",
      "epoch 71: train loss 14.012, time cost 0.022s\n",
      "epoch 72: train loss 14.123, time cost 0.014s\n",
      "epoch 73: train loss 18.828, time cost 0.016s\n",
      "epoch 74: train loss 19.128, time cost 0.018s\n",
      "epoch 75: train loss 17.612, time cost 0.019s\n",
      "epoch 76: train loss 17.995, time cost 0.014s\n"
     ]
    },
    {
     "name": "stderr",
     "output_type": "stream",
     "text": [
      "epoch 77: train loss 21.510, time cost 0.019s\n",
      "epoch 78: train loss 20.442, time cost 0.022s\n",
      "epoch 79: train loss 18.072, time cost 0.020s\n",
      "epoch 80: train loss 17.146, time cost 0.019s\n",
      "epoch 81: train loss 17.963, time cost 0.020s\n",
      "epoch 82: train loss 15.518, time cost 0.022s\n",
      "epoch 83: train loss 16.409, time cost 0.022s\n",
      "epoch 84: train loss 16.744, time cost 0.020s\n",
      "epoch 85: train loss 11.865, time cost 0.019s\n",
      "epoch 86: train loss 18.797, time cost 0.018s\n",
      "epoch 87: train loss 19.111, time cost 0.019s\n",
      "epoch 88: train loss 18.556, time cost 0.012s\n",
      "epoch 89: train loss 16.368, time cost 0.018s\n",
      "epoch 90: train loss 19.634, time cost 0.020s\n",
      "epoch 91: train loss 13.256, time cost 0.022s\n",
      "epoch 92: train loss 21.828, time cost 0.020s\n",
      "epoch 93: train loss 13.460, time cost 0.019s\n",
      "epoch 94: train loss 13.641, time cost 0.016s\n",
      "epoch 95: train loss 16.798, time cost 0.015s\n",
      "epoch 96: train loss 17.010, time cost 0.017s\n",
      "epoch 97: train loss 17.550, time cost 0.014s\n",
      "epoch 98: train loss 13.949, time cost 0.017s\n",
      "epoch 99: train loss 16.625, time cost 0.019s\n",
      "table table1<join>table2 training completed, time cost 2.110s\n",
      "table table1<join>table3 start training\n",
      "epoch 0: train loss 30.623, time cost 0.021s\n",
      "epoch 1: train loss 30.639, time cost 0.021s\n",
      "epoch 2: train loss 30.409, time cost 0.022s\n",
      "epoch 3: train loss 30.248, time cost 0.019s\n",
      "epoch 4: train loss 30.068, time cost 0.019s\n",
      "epoch 5: train loss 29.695, time cost 0.020s\n",
      "epoch 6: train loss 29.559, time cost 0.019s\n",
      "epoch 7: train loss 29.461, time cost 0.021s\n",
      "epoch 8: train loss 29.692, time cost 0.022s\n",
      "epoch 9: train loss 28.750, time cost 0.022s\n",
      "epoch 10: train loss 28.706, time cost 0.022s\n",
      "epoch 11: train loss 29.296, time cost 0.023s\n",
      "epoch 12: train loss 29.276, time cost 0.021s\n",
      "epoch 13: train loss 28.391, time cost 0.022s\n",
      "epoch 14: train loss 28.476, time cost 0.023s\n",
      "epoch 15: train loss 27.569, time cost 0.020s\n",
      "epoch 16: train loss 28.801, time cost 0.022s\n",
      "epoch 17: train loss 27.015, time cost 0.021s\n",
      "epoch 18: train loss 26.934, time cost 0.021s\n",
      "epoch 19: train loss 27.371, time cost 0.020s\n",
      "epoch 20: train loss 26.188, time cost 0.020s\n",
      "epoch 21: train loss 27.594, time cost 0.019s\n",
      "epoch 22: train loss 27.848, time cost 0.025s\n",
      "epoch 23: train loss 25.372, time cost 0.016s\n",
      "epoch 24: train loss 27.757, time cost 0.017s\n",
      "epoch 25: train loss 25.754, time cost 0.023s\n",
      "epoch 26: train loss 25.306, time cost 0.016s\n",
      "epoch 27: train loss 24.207, time cost 0.020s\n",
      "epoch 28: train loss 25.074, time cost 0.021s\n",
      "epoch 29: train loss 25.292, time cost 0.019s\n",
      "epoch 30: train loss 26.298, time cost 0.019s\n",
      "epoch 31: train loss 24.117, time cost 0.025s\n",
      "epoch 32: train loss 25.651, time cost 0.022s\n",
      "epoch 33: train loss 23.101, time cost 0.020s\n",
      "epoch 34: train loss 22.480, time cost 0.022s\n",
      "epoch 35: train loss 26.143, time cost 0.017s\n",
      "epoch 36: train loss 22.218, time cost 0.018s\n",
      "epoch 37: train loss 24.333, time cost 0.016s\n",
      "epoch 38: train loss 23.317, time cost 0.021s\n",
      "epoch 39: train loss 21.295, time cost 0.020s\n",
      "epoch 40: train loss 25.883, time cost 0.018s\n",
      "epoch 41: train loss 20.539, time cost 0.018s\n",
      "epoch 42: train loss 20.266, time cost 0.020s\n",
      "epoch 43: train loss 24.261, time cost 0.019s\n",
      "epoch 44: train loss 22.888, time cost 0.021s\n",
      "epoch 45: train loss 21.893, time cost 0.021s\n",
      "epoch 46: train loss 18.744, time cost 0.021s\n",
      "epoch 47: train loss 21.101, time cost 0.022s\n",
      "epoch 48: train loss 23.917, time cost 0.019s\n",
      "epoch 49: train loss 17.587, time cost 0.016s\n",
      "epoch 50: train loss 21.186, time cost 0.021s\n",
      "epoch 51: train loss 24.687, time cost 0.021s\n",
      "epoch 52: train loss 20.453, time cost 0.018s\n",
      "epoch 53: train loss 18.354, time cost 0.020s\n",
      "epoch 54: train loss 22.728, time cost 0.022s\n",
      "epoch 55: train loss 24.748, time cost 0.022s\n",
      "epoch 56: train loss 20.260, time cost 0.022s\n",
      "epoch 57: train loss 21.529, time cost 0.022s\n",
      "epoch 58: train loss 16.575, time cost 0.022s\n",
      "epoch 59: train loss 21.504, time cost 0.021s\n",
      "epoch 60: train loss 18.342, time cost 0.021s\n",
      "epoch 61: train loss 16.953, time cost 0.023s\n",
      "epoch 62: train loss 20.590, time cost 0.022s\n",
      "epoch 63: train loss 17.004, time cost 0.021s\n",
      "epoch 64: train loss 17.259, time cost 0.022s\n",
      "epoch 65: train loss 19.126, time cost 0.021s\n",
      "epoch 66: train loss 21.700, time cost 0.021s\n",
      "epoch 67: train loss 17.615, time cost 0.024s\n",
      "epoch 68: train loss 15.602, time cost 0.023s\n",
      "epoch 69: train loss 14.303, time cost 0.024s\n",
      "epoch 70: train loss 17.252, time cost 0.029s\n",
      "epoch 71: train loss 23.780, time cost 0.016s\n",
      "epoch 72: train loss 18.274, time cost 0.015s\n",
      "epoch 73: train loss 17.335, time cost 0.020s\n",
      "epoch 74: train loss 16.637, time cost 0.022s\n",
      "epoch 75: train loss 14.984, time cost 0.018s\n",
      "epoch 76: train loss 19.969, time cost 0.017s\n",
      "epoch 77: train loss 12.604, time cost 0.019s\n",
      "epoch 78: train loss 21.179, time cost 0.023s\n",
      "epoch 79: train loss 16.859, time cost 0.023s\n",
      "epoch 80: train loss 15.513, time cost 0.022s\n",
      "epoch 81: train loss 16.308, time cost 0.022s\n",
      "epoch 82: train loss 16.501, time cost 0.024s\n",
      "epoch 83: train loss 16.346, time cost 0.021s\n",
      "epoch 84: train loss 12.284, time cost 0.020s\n",
      "epoch 85: train loss 20.689, time cost 0.023s\n",
      "epoch 86: train loss 17.335, time cost 0.022s\n",
      "epoch 87: train loss 16.008, time cost 0.018s\n",
      "epoch 88: train loss 15.193, time cost 0.022s\n",
      "epoch 89: train loss 16.935, time cost 0.020s\n",
      "epoch 90: train loss 20.059, time cost 0.019s\n",
      "epoch 91: train loss 13.949, time cost 0.020s\n",
      "epoch 92: train loss 20.484, time cost 0.016s\n",
      "epoch 93: train loss 12.114, time cost 0.022s\n",
      "epoch 94: train loss 18.753, time cost 0.032s\n",
      "epoch 95: train loss 18.338, time cost 0.023s\n",
      "epoch 96: train loss 14.411, time cost 0.017s\n",
      "epoch 97: train loss 11.440, time cost 0.019s\n",
      "epoch 98: train loss 10.508, time cost 0.016s\n",
      "epoch 99: train loss 15.934, time cost 0.019s\n",
      "table table1<join>table3 training completed, time cost 2.163s\n"
     ]
    }
   ],
   "source": [
    "from relgen.synthesizer.arsynthesizer import MADESynthesizer\n",
    "from relgen.utils.enum_type import SynthesisMethod\n",
    "\n",
    "synthesizer = MADESynthesizer(dataset, method=SynthesisMethod.MULTI_MODEL)\n",
    "# synthesizer = MADESynthesizer(dataset, method=SynthesisMethod.SINGLE_MODEL)\n",
    "synthesizer.fit(data)"
   ]
  },
  {
   "cell_type": "markdown",
   "metadata": {},
   "source": [
    "# 5. Generate data"
   ]
  },
  {
   "cell_type": "code",
   "execution_count": 6,
   "metadata": {
    "ExecuteTime": {
     "end_time": "2024-08-12T04:07:15.270305Z",
     "start_time": "2024-08-12T04:07:15.024012Z"
    }
   },
   "outputs": [
    {
     "data": {
      "text/html": [
       "<div>\n",
       "<style scoped>\n",
       "    .dataframe tbody tr th:only-of-type {\n",
       "        vertical-align: middle;\n",
       "    }\n",
       "\n",
       "    .dataframe tbody tr th {\n",
       "        vertical-align: top;\n",
       "    }\n",
       "\n",
       "    .dataframe thead th {\n",
       "        text-align: right;\n",
       "    }\n",
       "</style>\n",
       "<table border=\"1\" class=\"dataframe\">\n",
       "  <thead>\n",
       "    <tr style=\"text-align: right;\">\n",
       "      <th></th>\n",
       "      <th>id1</th>\n",
       "      <th>name1</th>\n",
       "      <th>age1</th>\n",
       "      <th>id12</th>\n",
       "      <th>id13</th>\n",
       "      <th>id21</th>\n",
       "      <th>name2</th>\n",
       "      <th>age2</th>\n",
       "      <th>id31</th>\n",
       "      <th>name3</th>\n",
       "      <th>age3</th>\n",
       "    </tr>\n",
       "  </thead>\n",
       "  <tbody>\n",
       "    <tr>\n",
       "      <th>0</th>\n",
       "      <td>0</td>\n",
       "      <td>AWi</td>\n",
       "      <td>32</td>\n",
       "      <td>2</td>\n",
       "      <td>46</td>\n",
       "      <td>2</td>\n",
       "      <td>VQK</td>\n",
       "      <td>28</td>\n",
       "      <td>46</td>\n",
       "      <td>Svg</td>\n",
       "      <td>43</td>\n",
       "    </tr>\n",
       "    <tr>\n",
       "      <th>1</th>\n",
       "      <td>1</td>\n",
       "      <td>zri</td>\n",
       "      <td>40</td>\n",
       "      <td>57</td>\n",
       "      <td>71</td>\n",
       "      <td>57</td>\n",
       "      <td>QJT</td>\n",
       "      <td>38</td>\n",
       "      <td>71</td>\n",
       "      <td>wOD</td>\n",
       "      <td>42</td>\n",
       "    </tr>\n",
       "    <tr>\n",
       "      <th>2</th>\n",
       "      <td>2</td>\n",
       "      <td>RfA</td>\n",
       "      <td>34</td>\n",
       "      <td>3</td>\n",
       "      <td>50</td>\n",
       "      <td>3</td>\n",
       "      <td>VQK</td>\n",
       "      <td>42</td>\n",
       "      <td>50</td>\n",
       "      <td>WKc</td>\n",
       "      <td>49</td>\n",
       "    </tr>\n",
       "    <tr>\n",
       "      <th>3</th>\n",
       "      <td>4</td>\n",
       "      <td>jmX</td>\n",
       "      <td>36</td>\n",
       "      <td>3</td>\n",
       "      <td>41</td>\n",
       "      <td>3</td>\n",
       "      <td>VQK</td>\n",
       "      <td>42</td>\n",
       "      <td>41</td>\n",
       "      <td>Jcf</td>\n",
       "      <td>35</td>\n",
       "    </tr>\n",
       "    <tr>\n",
       "      <th>4</th>\n",
       "      <td>3</td>\n",
       "      <td>Zvq</td>\n",
       "      <td>20</td>\n",
       "      <td>11</td>\n",
       "      <td>58</td>\n",
       "      <td>11</td>\n",
       "      <td>vZf</td>\n",
       "      <td>38</td>\n",
       "      <td>58</td>\n",
       "      <td>oMN</td>\n",
       "      <td>24</td>\n",
       "    </tr>\n",
       "    <tr>\n",
       "      <th>5</th>\n",
       "      <td>15</td>\n",
       "      <td>JEO</td>\n",
       "      <td>27</td>\n",
       "      <td>11</td>\n",
       "      <td>86</td>\n",
       "      <td>11</td>\n",
       "      <td>vZf</td>\n",
       "      <td>38</td>\n",
       "      <td>86</td>\n",
       "      <td>rHZ</td>\n",
       "      <td>22</td>\n",
       "    </tr>\n",
       "    <tr>\n",
       "      <th>6</th>\n",
       "      <td>5</td>\n",
       "      <td>mNo</td>\n",
       "      <td>37</td>\n",
       "      <td>85</td>\n",
       "      <td>1</td>\n",
       "      <td>85</td>\n",
       "      <td>WyC</td>\n",
       "      <td>38</td>\n",
       "      <td>1</td>\n",
       "      <td>Inc</td>\n",
       "      <td>24</td>\n",
       "    </tr>\n",
       "    <tr>\n",
       "      <th>7</th>\n",
       "      <td>6</td>\n",
       "      <td>dnp</td>\n",
       "      <td>27</td>\n",
       "      <td>69</td>\n",
       "      <td>45</td>\n",
       "      <td>69</td>\n",
       "      <td>VQK</td>\n",
       "      <td>46</td>\n",
       "      <td>45</td>\n",
       "      <td>Svg</td>\n",
       "      <td>22</td>\n",
       "    </tr>\n",
       "    <tr>\n",
       "      <th>8</th>\n",
       "      <td>7</td>\n",
       "      <td>cRB</td>\n",
       "      <td>22</td>\n",
       "      <td>50</td>\n",
       "      <td>43</td>\n",
       "      <td>50</td>\n",
       "      <td>ieg</td>\n",
       "      <td>46</td>\n",
       "      <td>43</td>\n",
       "      <td>iRh</td>\n",
       "      <td>40</td>\n",
       "    </tr>\n",
       "    <tr>\n",
       "      <th>9</th>\n",
       "      <td>8</td>\n",
       "      <td>cRB</td>\n",
       "      <td>33</td>\n",
       "      <td>72</td>\n",
       "      <td>8</td>\n",
       "      <td>72</td>\n",
       "      <td>rdJ</td>\n",
       "      <td>50</td>\n",
       "      <td>8</td>\n",
       "      <td>vKq</td>\n",
       "      <td>43</td>\n",
       "    </tr>\n",
       "  </tbody>\n",
       "</table>\n",
       "</div>"
      ],
      "text/plain": [
       "   id1 name1 age1 id12 id13 id21 name2 age2 id31 name3 age3\n",
       "0    0   AWi   32    2   46    2   VQK   28   46   Svg   43\n",
       "1    1   zri   40   57   71   57   QJT   38   71   wOD   42\n",
       "2    2   RfA   34    3   50    3   VQK   42   50   WKc   49\n",
       "3    4   jmX   36    3   41    3   VQK   42   41   Jcf   35\n",
       "4    3   Zvq   20   11   58   11   vZf   38   58   oMN   24\n",
       "5   15   JEO   27   11   86   11   vZf   38   86   rHZ   22\n",
       "6    5   mNo   37   85    1   85   WyC   38    1   Inc   24\n",
       "7    6   dnp   27   69   45   69   VQK   46   45   Svg   22\n",
       "8    7   cRB   22   50   43   50   ieg   46   43   iRh   40\n",
       "9    8   cRB   33   72    8   72   rdJ   50    8   vKq   43"
      ]
     },
     "execution_count": 6,
     "metadata": {},
     "output_type": "execute_result"
    }
   ],
   "source": [
    "sampled_data = synthesizer.sample()\n",
    "\n",
    "merged_sampled_data = pd.merge(pd.merge(sampled_data[\"table1\"], sampled_data[\"table2\"], left_on=\"id12\", right_on=\"id21\"), sampled_data[\"table3\"], left_on=\"id13\", right_on=\"id31\")\n",
    "merged_sampled_data.head(10)"
   ]
  },
  {
   "cell_type": "markdown",
   "metadata": {},
   "source": [
    "# 6. Evaluate the generated data"
   ]
  },
  {
   "cell_type": "code",
   "execution_count": 13,
   "metadata": {
    "ExecuteTime": {
     "end_time": "2024-08-12T04:08:31.522563Z",
     "start_time": "2024-08-12T04:08:31.520384Z"
    }
   },
   "outputs": [],
   "source": [
    "from relgen.evaluator import Evaluator\n",
    "\n",
    "evaluator = Evaluator(merged_data, merged_sampled_data)"
   ]
  },
  {
   "cell_type": "code",
   "execution_count": 8,
   "metadata": {
    "ExecuteTime": {
     "end_time": "2024-08-12T04:07:16.453024Z",
     "start_time": "2024-08-12T04:07:15.927006Z"
    }
   },
   "outputs": [
    {
     "data": {
      "text/plain": [
       "{'JS_distance Mean': 0.2775140921493952,\n",
       " 'JS_distance Std': 0.13538881125085894,\n",
       " 'JS_distance Max': 0.4483823288578953,\n",
       " 'JS_distance Min': 0.11725865610441584,\n",
       " 'WD_distance Mean': 14.887500000000001,\n",
       " 'WD_distance Std': 14.524992039584738,\n",
       " 'WD_distance Max': 33.230000000000004,\n",
       " 'WD_distance Min': 0.0,\n",
       " 'Diff.Corr Mean': 0.18353954413944662,\n",
       " 'Discriminator Measure': 0.25}"
      ]
     },
     "execution_count": 8,
     "metadata": {},
     "output_type": "execute_result"
    }
   ],
   "source": [
    "evaluator.eval_fidelity()"
   ]
  },
  {
   "cell_type": "code",
   "execution_count": 9,
   "metadata": {
    "ExecuteTime": {
     "end_time": "2024-08-12T04:07:54.759322Z",
     "start_time": "2024-08-12T04:07:16.453932Z"
    }
   },
   "outputs": [
    {
     "data": {
      "text/plain": [
       "{'DCR 5 percentile': 0.07592323476649564,\n",
       " 'NNDR 5 percentile': 0.5337835288957716}"
      ]
     },
     "execution_count": 9,
     "metadata": {},
     "output_type": "execute_result"
    }
   ],
   "source": [
    "evaluator.eval_privacy()"
   ]
  },
  {
   "cell_type": "code",
   "execution_count": 10,
   "metadata": {
    "ExecuteTime": {
     "end_time": "2024-08-12T04:08:28.351953Z",
     "start_time": "2024-08-12T04:07:54.760240Z"
    }
   },
   "outputs": [
    {
     "data": {
      "text/plain": [
       "{'Sampling Diversity': 0.39}"
      ]
     },
     "execution_count": 10,
     "metadata": {},
     "output_type": "execute_result"
    }
   ],
   "source": [
    "evaluator.eval_diversity()"
   ]
  },
  {
   "cell_type": "code",
   "execution_count": 14,
   "metadata": {
    "ExecuteTime": {
     "end_time": "2024-08-12T04:08:41.935180Z",
     "start_time": "2024-08-12T04:08:41.094252Z"
    }
   },
   "outputs": [
    {
     "data": {
      "image/png": "[encoded data removed]",
      "text/plain": [
       "<Figure size 1080x1152 with 12 Axes>"
      ]
     },
     "metadata": {
      "needs_background": "light"
     },
     "output_type": "display_data"
    }
   ],
   "source": [
    "import warnings\n",
    "warnings.filterwarnings(\"ignore\")\n",
    "warnings.simplefilter('ignore')\n",
    "evaluator.eval_histogram()"
   ]
  },
  {
   "cell_type": "code",
   "execution_count": 12,
   "metadata": {
    "ExecuteTime": {
     "end_time": "2024-08-12T04:08:31.517139Z",
     "start_time": "2024-08-12T04:08:29.953554Z"
    }
   },
   "outputs": [
    {
     "data": {
      "image/png": "[encoded data removed]",
      "text/plain": [
       "<Figure size 432x432 with 1 Axes>"
      ]
     },
     "metadata": {
      "needs_background": "light"
     },
     "output_type": "display_data"
    }
   ],
   "source": [
    "evaluator.eval_tsne()"
   ]
  },
  {
   "cell_type": "code",
   "execution_count": null,
   "metadata": {},
   "outputs": [],
   "source": []
  }
 ],
 "metadata": {
  "kernelspec": {
   "display_name": "Python 3 (ipykernel)",
   "language": "python",
   "name": "python3"
  },
  "language_info": {
   "codemirror_mode": {
    "name": "ipython",
    "version": 3
   },
   "file_extension": ".py",
   "mimetype": "text/x-python",
   "name": "python",
   "nbconvert_exporter": "python",
   "pygments_lexer": "ipython3",
   "version": "3.7.1"
  },
  "toc": {
   "base_numbering": 1,
   "nav_menu": {},
   "number_sections": true,
   "sideBar": true,
   "skip_h1_title": false,
   "title_cell": "Table of Contents",
   "title_sidebar": "Contents",
   "toc_cell": false,
   "toc_position": {},
   "toc_section_display": true,
   "toc_window_display": false
  }
 },
 "nbformat": 4,
 "nbformat_minor": 1
}
