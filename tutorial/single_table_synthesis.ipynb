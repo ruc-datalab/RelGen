{
 "cells": [
  {
   "cell_type": "code",
   "execution_count": 1,
   "metadata": {
    "ExecuteTime": {
     "end_time": "2024-08-12T04:07:03.680931Z",
     "start_time": "2024-08-12T04:07:03.671730Z"
    }
   },
   "outputs": [],
   "source": [
    "import sys\n",
    "sys.path.append(\"../\")\n",
    "import warnings\n",
    "warnings.filterwarnings(\"ignore\")\n",
    "warnings.simplefilter('ignore')"
   ]
  },
  {
   "cell_type": "markdown",
   "metadata": {},
   "source": [
    "# 1. Load metadata"
   ]
  },
  {
   "cell_type": "code",
   "execution_count": 2,
   "metadata": {
    "ExecuteTime": {
     "end_time": "2024-08-12T04:07:05.187247Z",
     "start_time": "2024-08-12T04:07:03.688481Z"
    }
   },
   "outputs": [
    {
     "name": "stdout",
     "output_type": "stream",
     "text": [
      "tables:\n",
      "{'student': {'columns': {'id': {'type': 'id'}, 'name': {'type': 'categorical'}, 'age': {'type': 'numerical'}}, 'primary_key': 'id'}}\n",
      "relationships:\n",
      "[]\n"
     ]
    }
   ],
   "source": [
    "from relgen.data.metadata import Metadata\n",
    "\n",
    "metadata = Metadata()\n",
    "metadata.load_from_json(\"../datasets/single_table_demo/metadata.json\")\n",
    "\n",
    "print(metadata)"
   ]
  },
  {
   "cell_type": "markdown",
   "metadata": {},
   "source": [
    "# 2. Load data"
   ]
  },
  {
   "cell_type": "code",
   "execution_count": 3,
   "metadata": {
    "ExecuteTime": {
     "end_time": "2024-08-12T04:07:05.208695Z",
     "start_time": "2024-08-12T04:07:05.188336Z"
    }
   },
   "outputs": [
    {
     "data": {
      "text/html": [
       "<div>\n",
       "<style scoped>\n",
       "    .dataframe tbody tr th:only-of-type {\n",
       "        vertical-align: middle;\n",
       "    }\n",
       "\n",
       "    .dataframe tbody tr th {\n",
       "        vertical-align: top;\n",
       "    }\n",
       "\n",
       "    .dataframe thead th {\n",
       "        text-align: right;\n",
       "    }\n",
       "</style>\n",
       "<table border=\"1\" class=\"dataframe\">\n",
       "  <thead>\n",
       "    <tr style=\"text-align: right;\">\n",
       "      <th></th>\n",
       "      <th>id</th>\n",
       "      <th>name</th>\n",
       "      <th>age</th>\n",
       "    </tr>\n",
       "  </thead>\n",
       "  <tbody>\n",
       "    <tr>\n",
       "      <th>0</th>\n",
       "      <td>0</td>\n",
       "      <td>jlv</td>\n",
       "      <td>37</td>\n",
       "    </tr>\n",
       "    <tr>\n",
       "      <th>1</th>\n",
       "      <td>1</td>\n",
       "      <td>vyD</td>\n",
       "      <td>34</td>\n",
       "    </tr>\n",
       "    <tr>\n",
       "      <th>2</th>\n",
       "      <td>2</td>\n",
       "      <td>Gev</td>\n",
       "      <td>31</td>\n",
       "    </tr>\n",
       "    <tr>\n",
       "      <th>3</th>\n",
       "      <td>3</td>\n",
       "      <td>hKU</td>\n",
       "      <td>44</td>\n",
       "    </tr>\n",
       "    <tr>\n",
       "      <th>4</th>\n",
       "      <td>4</td>\n",
       "      <td>ZOK</td>\n",
       "      <td>29</td>\n",
       "    </tr>\n",
       "    <tr>\n",
       "      <th>5</th>\n",
       "      <td>5</td>\n",
       "      <td>BTP</td>\n",
       "      <td>45</td>\n",
       "    </tr>\n",
       "    <tr>\n",
       "      <th>6</th>\n",
       "      <td>6</td>\n",
       "      <td>JPB</td>\n",
       "      <td>29</td>\n",
       "    </tr>\n",
       "    <tr>\n",
       "      <th>7</th>\n",
       "      <td>7</td>\n",
       "      <td>jge</td>\n",
       "      <td>43</td>\n",
       "    </tr>\n",
       "    <tr>\n",
       "      <th>8</th>\n",
       "      <td>8</td>\n",
       "      <td>GoP</td>\n",
       "      <td>28</td>\n",
       "    </tr>\n",
       "    <tr>\n",
       "      <th>9</th>\n",
       "      <td>9</td>\n",
       "      <td>ouv</td>\n",
       "      <td>37</td>\n",
       "    </tr>\n",
       "  </tbody>\n",
       "</table>\n",
       "</div>"
      ],
      "text/plain": [
       "   id name  age\n",
       "0   0  jlv   37\n",
       "1   1  vyD   34\n",
       "2   2  Gev   31\n",
       "3   3  hKU   44\n",
       "4   4  ZOK   29\n",
       "5   5  BTP   45\n",
       "6   6  JPB   29\n",
       "7   7  jge   43\n",
       "8   8  GoP   28\n",
       "9   9  ouv   37"
      ]
     },
     "execution_count": 3,
     "metadata": {},
     "output_type": "execute_result"
    }
   ],
   "source": [
    "import pandas as pd\n",
    "\n",
    "data = {\n",
    "    \"student\": pd.read_csv(\"../datasets/single_table_demo/student.csv\")\n",
    "}\n",
    "\n",
    "data[\"student\"].head(10)"
   ]
  },
  {
   "cell_type": "markdown",
   "metadata": {},
   "source": [
    "# 3. Data conversion"
   ]
  },
  {
   "cell_type": "code",
   "execution_count": 4,
   "metadata": {
    "ExecuteTime": {
     "end_time": "2024-08-12T04:07:05.288299Z",
     "start_time": "2024-08-12T04:07:05.211913Z"
    }
   },
   "outputs": [],
   "source": [
    "from relgen.data.dataset import Dataset\n",
    "\n",
    "dataset = Dataset(metadata)\n",
    "dataset.fit(data)"
   ]
  },
  {
   "cell_type": "markdown",
   "metadata": {},
   "source": [
    "# 4. Data synthesizer"
   ]
  },
  {
   "cell_type": "code",
   "execution_count": 5,
   "metadata": {
    "ExecuteTime": {
     "end_time": "2024-08-12T04:07:05.906267Z",
     "start_time": "2024-08-12T04:07:05.289115Z"
    }
   },
   "outputs": [
    {
     "name": "stderr",
     "output_type": "stream",
     "text": [
      "table student start training\n",
      "epoch 0: train loss 12.803, time cost 0.019s\n",
      "epoch 1: train loss 12.647, time cost 0.006s\n",
      "epoch 2: train loss 12.747, time cost 0.005s\n",
      "epoch 3: train loss 12.703, time cost 0.005s\n",
      "epoch 4: train loss 12.570, time cost 0.005s\n",
      "epoch 5: train loss 12.534, time cost 0.005s\n",
      "epoch 6: train loss 12.450, time cost 0.005s\n",
      "epoch 7: train loss 12.472, time cost 0.005s\n",
      "epoch 8: train loss 12.318, time cost 0.005s\n",
      "epoch 9: train loss 12.305, time cost 0.005s\n",
      "epoch 10: train loss 12.405, time cost 0.005s\n",
      "epoch 11: train loss 12.403, time cost 0.005s\n",
      "epoch 12: train loss 12.280, time cost 0.005s\n",
      "epoch 13: train loss 11.827, time cost 0.005s\n",
      "epoch 14: train loss 12.233, time cost 0.005s\n",
      "epoch 15: train loss 11.655, time cost 0.005s\n",
      "epoch 16: train loss 11.636, time cost 0.005s\n",
      "epoch 17: train loss 11.803, time cost 0.005s\n",
      "epoch 18: train loss 11.940, time cost 0.005s\n",
      "epoch 19: train loss 11.986, time cost 0.005s\n",
      "epoch 20: train loss 11.906, time cost 0.005s\n",
      "epoch 21: train loss 11.850, time cost 0.005s\n",
      "epoch 22: train loss 11.450, time cost 0.005s\n",
      "epoch 23: train loss 11.847, time cost 0.005s\n",
      "epoch 24: train loss 10.991, time cost 0.005s\n",
      "epoch 25: train loss 10.729, time cost 0.005s\n",
      "epoch 26: train loss 11.880, time cost 0.005s\n",
      "epoch 27: train loss 10.790, time cost 0.005s\n",
      "epoch 28: train loss 10.796, time cost 0.005s\n",
      "epoch 29: train loss 10.456, time cost 0.005s\n",
      "epoch 30: train loss 11.580, time cost 0.005s\n",
      "epoch 31: train loss 11.198, time cost 0.006s\n",
      "epoch 32: train loss 10.389, time cost 0.006s\n",
      "epoch 33: train loss 11.333, time cost 0.005s\n",
      "epoch 34: train loss 10.948, time cost 0.005s\n",
      "epoch 35: train loss 11.039, time cost 0.006s\n",
      "epoch 36: train loss 9.586, time cost 0.006s\n",
      "epoch 37: train loss 10.249, time cost 0.006s\n",
      "epoch 38: train loss 9.530, time cost 0.005s\n",
      "epoch 39: train loss 10.495, time cost 0.005s\n",
      "epoch 40: train loss 11.499, time cost 0.005s\n",
      "epoch 41: train loss 10.329, time cost 0.006s\n",
      "epoch 42: train loss 9.360, time cost 0.006s\n",
      "epoch 43: train loss 9.931, time cost 0.006s\n",
      "epoch 44: train loss 11.170, time cost 0.006s\n",
      "epoch 45: train loss 9.506, time cost 0.006s\n",
      "epoch 46: train loss 8.677, time cost 0.006s\n",
      "epoch 47: train loss 9.387, time cost 0.006s\n",
      "epoch 48: train loss 8.234, time cost 0.006s\n",
      "epoch 49: train loss 10.948, time cost 0.006s\n",
      "epoch 50: train loss 10.207, time cost 0.006s\n",
      "epoch 51: train loss 10.719, time cost 0.005s\n",
      "epoch 52: train loss 10.426, time cost 0.006s\n",
      "epoch 53: train loss 9.132, time cost 0.006s\n",
      "epoch 54: train loss 10.604, time cost 0.011s\n",
      "epoch 55: train loss 7.501, time cost 0.006s\n",
      "epoch 56: train loss 8.510, time cost 0.006s\n",
      "epoch 57: train loss 7.771, time cost 0.006s\n",
      "epoch 58: train loss 7.195, time cost 0.006s\n",
      "epoch 59: train loss 10.801, time cost 0.006s\n",
      "epoch 60: train loss 7.235, time cost 0.006s\n",
      "epoch 61: train loss 8.361, time cost 0.006s\n",
      "epoch 62: train loss 7.343, time cost 0.006s\n",
      "epoch 63: train loss 9.727, time cost 0.006s\n",
      "epoch 64: train loss 8.347, time cost 0.007s\n",
      "epoch 65: train loss 8.750, time cost 0.006s\n",
      "epoch 66: train loss 8.200, time cost 0.006s\n",
      "epoch 67: train loss 8.244, time cost 0.006s\n",
      "epoch 68: train loss 9.593, time cost 0.006s\n",
      "epoch 69: train loss 8.134, time cost 0.006s\n",
      "epoch 70: train loss 9.249, time cost 0.006s\n",
      "epoch 71: train loss 7.763, time cost 0.006s\n",
      "epoch 72: train loss 9.741, time cost 0.005s\n",
      "epoch 73: train loss 8.265, time cost 0.005s\n",
      "epoch 74: train loss 9.144, time cost 0.005s\n",
      "epoch 75: train loss 10.783, time cost 0.005s\n",
      "epoch 76: train loss 9.123, time cost 0.005s\n",
      "epoch 77: train loss 7.921, time cost 0.005s\n",
      "epoch 78: train loss 5.636, time cost 0.006s\n",
      "epoch 79: train loss 5.909, time cost 0.005s\n",
      "epoch 80: train loss 7.712, time cost 0.005s\n",
      "epoch 81: train loss 8.913, time cost 0.005s\n",
      "epoch 82: train loss 9.721, time cost 0.006s\n",
      "epoch 83: train loss 7.363, time cost 0.006s\n",
      "epoch 84: train loss 9.558, time cost 0.006s\n",
      "epoch 85: train loss 9.307, time cost 0.005s\n",
      "epoch 86: train loss 9.013, time cost 0.005s\n",
      "epoch 87: train loss 9.610, time cost 0.005s\n",
      "epoch 88: train loss 9.988, time cost 0.005s\n",
      "epoch 89: train loss 5.179, time cost 0.005s\n",
      "epoch 90: train loss 6.776, time cost 0.005s\n",
      "epoch 91: train loss 5.234, time cost 0.005s\n",
      "epoch 92: train loss 6.987, time cost 0.006s\n",
      "epoch 93: train loss 5.240, time cost 0.006s\n",
      "epoch 94: train loss 8.610, time cost 0.006s\n",
      "epoch 95: train loss 8.420, time cost 0.005s\n",
      "epoch 96: train loss 7.506, time cost 0.005s\n",
      "epoch 97: train loss 4.964, time cost 0.005s\n",
      "epoch 98: train loss 5.024, time cost 0.005s\n",
      "epoch 99: train loss 7.018, time cost 0.005s\n",
      "table student training completed, time cost 0.601s\n"
     ]
    }
   ],
   "source": [
    "from relgen.synthesizer.arsynthesizer import MADESynthesizer\n",
    "import warnings\n",
    "warnings.filterwarnings(\"ignore\")\n",
    "warnings.simplefilter('ignore')\n",
    "\n",
    "synthesizer = MADESynthesizer(dataset)\n",
    "synthesizer.fit(data)"
   ]
  },
  {
   "cell_type": "markdown",
   "metadata": {},
   "source": [
    "# 5. Generate data"
   ]
  },
  {
   "cell_type": "code",
   "execution_count": 6,
   "metadata": {
    "ExecuteTime": {
     "end_time": "2024-08-12T04:07:05.919679Z",
     "start_time": "2024-08-12T04:07:05.907075Z"
    }
   },
   "outputs": [
    {
     "data": {
      "text/html": [
       "<div>\n",
       "<style scoped>\n",
       "    .dataframe tbody tr th:only-of-type {\n",
       "        vertical-align: middle;\n",
       "    }\n",
       "\n",
       "    .dataframe tbody tr th {\n",
       "        vertical-align: top;\n",
       "    }\n",
       "\n",
       "    .dataframe thead th {\n",
       "        text-align: right;\n",
       "    }\n",
       "</style>\n",
       "<table border=\"1\" class=\"dataframe\">\n",
       "  <thead>\n",
       "    <tr style=\"text-align: right;\">\n",
       "      <th></th>\n",
       "      <th>id</th>\n",
       "      <th>name</th>\n",
       "      <th>age</th>\n",
       "    </tr>\n",
       "  </thead>\n",
       "  <tbody>\n",
       "    <tr>\n",
       "      <th>0</th>\n",
       "      <td>0</td>\n",
       "      <td>Avt</td>\n",
       "      <td>46</td>\n",
       "    </tr>\n",
       "    <tr>\n",
       "      <th>1</th>\n",
       "      <td>1</td>\n",
       "      <td>vVf</td>\n",
       "      <td>44</td>\n",
       "    </tr>\n",
       "    <tr>\n",
       "      <th>2</th>\n",
       "      <td>2</td>\n",
       "      <td>PHx</td>\n",
       "      <td>42</td>\n",
       "    </tr>\n",
       "    <tr>\n",
       "      <th>3</th>\n",
       "      <td>3</td>\n",
       "      <td>zOy</td>\n",
       "      <td>44</td>\n",
       "    </tr>\n",
       "    <tr>\n",
       "      <th>4</th>\n",
       "      <td>4</td>\n",
       "      <td>qIt</td>\n",
       "      <td>49</td>\n",
       "    </tr>\n",
       "    <tr>\n",
       "      <th>5</th>\n",
       "      <td>5</td>\n",
       "      <td>CCQ</td>\n",
       "      <td>49</td>\n",
       "    </tr>\n",
       "    <tr>\n",
       "      <th>6</th>\n",
       "      <td>6</td>\n",
       "      <td>JtZ</td>\n",
       "      <td>37</td>\n",
       "    </tr>\n",
       "    <tr>\n",
       "      <th>7</th>\n",
       "      <td>7</td>\n",
       "      <td>gUV</td>\n",
       "      <td>34</td>\n",
       "    </tr>\n",
       "    <tr>\n",
       "      <th>8</th>\n",
       "      <td>8</td>\n",
       "      <td>zOy</td>\n",
       "      <td>23</td>\n",
       "    </tr>\n",
       "    <tr>\n",
       "      <th>9</th>\n",
       "      <td>9</td>\n",
       "      <td>JzC</td>\n",
       "      <td>37</td>\n",
       "    </tr>\n",
       "  </tbody>\n",
       "</table>\n",
       "</div>"
      ],
      "text/plain": [
       "   id name age\n",
       "0   0  Avt  46\n",
       "1   1  vVf  44\n",
       "2   2  PHx  42\n",
       "3   3  zOy  44\n",
       "4   4  qIt  49\n",
       "5   5  CCQ  49\n",
       "6   6  JtZ  37\n",
       "7   7  gUV  34\n",
       "8   8  zOy  23\n",
       "9   9  JzC  37"
      ]
     },
     "execution_count": 6,
     "metadata": {},
     "output_type": "execute_result"
    }
   ],
   "source": [
    "sampled_data = synthesizer.sample()\n",
    "\n",
    "sampled_data[\"student\"].head(10)"
   ]
  },
  {
   "cell_type": "markdown",
   "metadata": {},
   "source": [
    "# 6. Evaluate the generated data"
   ]
  },
  {
   "cell_type": "code",
   "execution_count": 14,
   "metadata": {
    "ExecuteTime": {
     "end_time": "2024-08-12T04:07:59.380813Z",
     "start_time": "2024-08-12T04:07:59.370636Z"
    }
   },
   "outputs": [],
   "source": [
    "from relgen.evaluator import Evaluator\n",
    "\n",
    "import warnings\n",
    "warnings.filterwarnings(\"ignore\")\n",
    "warnings.simplefilter('ignore')\n",
    "evaluator = Evaluator(data[\"student\"], sampled_data[\"student\"])"
   ]
  },
  {
   "cell_type": "code",
   "execution_count": 8,
   "metadata": {
    "ExecuteTime": {
     "end_time": "2024-08-12T04:07:06.577071Z",
     "start_time": "2024-08-12T04:07:06.452495Z"
    }
   },
   "outputs": [
    {
     "data": {
      "text/plain": [
       "{'JS_distance Mean': 0.4122667838690391,\n",
       " 'JS_distance Std': 0.0,\n",
       " 'JS_distance Max': 0.4122667838690391,\n",
       " 'JS_distance Min': 0.4122667838690391,\n",
       " 'WD_distance Mean': 0.29,\n",
       " 'WD_distance Std': 0.29,\n",
       " 'WD_distance Max': 0.58,\n",
       " 'WD_distance Min': 0.0,\n",
       " 'Diff.Corr Mean': 0.09179524202356482,\n",
       " 'Discriminator Measure': 0.5}"
      ]
     },
     "execution_count": 8,
     "metadata": {},
     "output_type": "execute_result"
    }
   ],
   "source": [
    "evaluator.eval_fidelity()"
   ]
  },
  {
   "cell_type": "code",
   "execution_count": 9,
   "metadata": {
    "ExecuteTime": {
     "end_time": "2024-08-12T04:07:28.728438Z",
     "start_time": "2024-08-12T04:07:06.577927Z"
    }
   },
   "outputs": [
    {
     "data": {
      "text/plain": [
       "{'DCR 5 percentile': 0.0, 'NNDR 5 percentile': 0.0}"
      ]
     },
     "execution_count": 9,
     "metadata": {},
     "output_type": "execute_result"
    }
   ],
   "source": [
    "evaluator.eval_privacy()"
   ]
  },
  {
   "cell_type": "code",
   "execution_count": 10,
   "metadata": {
    "ExecuteTime": {
     "end_time": "2024-08-12T04:07:46.744018Z",
     "start_time": "2024-08-12T04:07:28.731079Z"
    }
   },
   "outputs": [
    {
     "data": {
      "text/plain": [
       "{'Sampling Diversity': 0.76}"
      ]
     },
     "execution_count": 10,
     "metadata": {},
     "output_type": "execute_result"
    }
   ],
   "source": [
    "evaluator.eval_diversity()"
   ]
  },
  {
   "cell_type": "code",
   "execution_count": 13,
   "metadata": {
    "ExecuteTime": {
     "end_time": "2024-08-12T04:07:53.830497Z",
     "start_time": "2024-08-12T04:07:53.502035Z"
    }
   },
   "outputs": [
    {
     "data": {
      "image/png": "[encoded data removed]",
      "text/plain": [
       "<Figure size 1080x288 with 3 Axes>"
      ]
     },
     "metadata": {
      "needs_background": "light"
     },
     "output_type": "display_data"
    }
   ],
   "source": [
    "import warnings\n",
    "warnings.filterwarnings(\"ignore\")\n",
    "warnings.simplefilter(\"ignore\")\n",
    "evaluator.eval_histogram()"
   ]
  },
  {
   "cell_type": "code",
   "execution_count": 12,
   "metadata": {
    "ExecuteTime": {
     "end_time": "2024-08-12T04:07:49.935036Z",
     "start_time": "2024-08-12T04:07:48.232878Z"
    }
   },
   "outputs": [
    {
     "data": {
      "image/png": "[encoded data removed]",
      "text/plain": [
       "<Figure size 432x432 with 1 Axes>"
      ]
     },
     "metadata": {
      "needs_background": "light"
     },
     "output_type": "display_data"
    }
   ],
   "source": [
    "evaluator.eval_tsne()"
   ]
  },
  {
   "cell_type": "code",
   "execution_count": null,
   "metadata": {},
   "outputs": [],
   "source": []
  }
 ],
 "metadata": {
  "kernelspec": {
   "display_name": "Python 3 (ipykernel)",
   "language": "python",
   "name": "python3"
  },
  "language_info": {
   "codemirror_mode": {
    "name": "ipython",
    "version": 3
   },
   "file_extension": ".py",
   "mimetype": "text/x-python",
   "name": "python",
   "nbconvert_exporter": "python",
   "pygments_lexer": "ipython3",
   "version": "3.7.1"
  },
  "toc": {
   "base_numbering": 1,
   "nav_menu": {},
   "number_sections": true,
   "sideBar": true,
   "skip_h1_title": false,
   "title_cell": "Table of Contents",
   "title_sidebar": "Contents",
   "toc_cell": false,
   "toc_position": {},
   "toc_section_display": true,
   "toc_window_display": false
  }
 },
 "nbformat": 4,
 "nbformat_minor": 1
}
