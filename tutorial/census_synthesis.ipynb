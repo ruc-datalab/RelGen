{
 "cells": [
  {
   "cell_type": "code",
   "execution_count": 1,
   "metadata": {
    "ExecuteTime": {
     "end_time": "2024-08-12T04:07:14.965941Z",
     "start_time": "2024-08-12T04:07:14.959489Z"
    }
   },
   "outputs": [],
   "source": [
    "import sys\n",
    "sys.path.append(\"../\")\n",
    "import warnings\n",
    "warnings.filterwarnings(\"ignore\")\n",
    "warnings.simplefilter('ignore')"
   ]
  },
  {
   "cell_type": "markdown",
   "metadata": {},
   "source": [
    "# 1. Load metadata"
   ]
  },
  {
   "cell_type": "code",
   "execution_count": 2,
   "metadata": {
    "ExecuteTime": {
     "end_time": "2024-08-12T04:07:16.281093Z",
     "start_time": "2024-08-12T04:07:14.968746Z"
    }
   },
   "outputs": [],
   "source": [
    "from relgen.data.metadata import Metadata\n",
    "\n",
    "metadata = Metadata()\n",
    "metadata.load_from_json(\"../datasets/census/metadata.json\")"
   ]
  },
  {
   "cell_type": "markdown",
   "metadata": {},
   "source": [
    "# 2. Load data"
   ]
  },
  {
   "cell_type": "code",
   "execution_count": 3,
   "metadata": {
    "ExecuteTime": {
     "end_time": "2024-08-12T04:07:16.300889Z",
     "start_time": "2024-08-12T04:07:16.281922Z"
    }
   },
   "outputs": [],
   "source": [
    "import pandas as pd\n",
    "\n",
    "data = {\n",
    "    \"census\": pd.read_csv(\"../datasets/census/census.csv\")\n",
    "}"
   ]
  },
  {
   "cell_type": "markdown",
   "metadata": {},
   "source": [
    "# 3. Data conversion"
   ]
  },
  {
   "cell_type": "code",
   "execution_count": 4,
   "metadata": {
    "ExecuteTime": {
     "end_time": "2024-08-12T04:07:16.397435Z",
     "start_time": "2024-08-12T04:07:16.302170Z"
    }
   },
   "outputs": [],
   "source": [
    "from relgen.data.dataset import Dataset\n",
    "\n",
    "dataset = Dataset(metadata)\n",
    "dataset.fit(data)"
   ]
  },
  {
   "cell_type": "markdown",
   "metadata": {},
   "source": [
    "# 4. Data synthesizer"
   ]
  },
  {
   "cell_type": "code",
   "execution_count": 5,
   "metadata": {
    "ExecuteTime": {
     "end_time": "2024-08-12T04:08:20.787060Z",
     "start_time": "2024-08-12T04:07:16.399158Z"
    }
   },
   "outputs": [
    {
     "name": "stderr",
     "output_type": "stream",
     "text": [
      "table census start training\n",
      "epoch 0: train loss 45.888, time cost 6.510s\n",
      "epoch 1: train loss 41.709, time cost 6.492s\n",
      "epoch 2: train loss 36.671, time cost 6.492s\n",
      "epoch 3: train loss 32.395, time cost 6.474s\n",
      "epoch 4: train loss 31.107, time cost 6.736s\n",
      "epoch 5: train loss 30.339, time cost 6.387s\n",
      "epoch 6: train loss 29.589, time cost 6.328s\n",
      "epoch 7: train loss 29.157, time cost 6.320s\n",
      "epoch 8: train loss 28.923, time cost 6.275s\n",
      "epoch 9: train loss 28.580, time cost 6.271s\n",
      "table census training completed, time cost 64.288s\n"
     ]
    }
   ],
   "source": [
    "from relgen.synthesizer.arsynthesizer import MADESynthesizer\n",
    "import warnings\n",
    "warnings.filterwarnings(\"ignore\")\n",
    "warnings.simplefilter('ignore')\n",
    "synthesizer = MADESynthesizer(dataset)\n",
    "synthesizer.fit(data, epochs=10)"
   ]
  },
  {
   "cell_type": "markdown",
   "metadata": {},
   "source": [
    "# 5. Generate data"
   ]
  },
  {
   "cell_type": "code",
   "execution_count": null,
   "metadata": {
    "ExecuteTime": {
     "start_time": "2024-08-12T04:07:14.959Z"
    }
   },
   "outputs": [],
   "source": [
    "sampled_data = synthesizer.sample()"
   ]
  },
  {
   "cell_type": "markdown",
   "metadata": {},
   "source": [
    "# 6. Evaluate the generated data"
   ]
  },
  {
   "cell_type": "code",
   "execution_count": null,
   "metadata": {
    "ExecuteTime": {
     "start_time": "2024-08-12T04:07:14.959Z"
    }
   },
   "outputs": [],
   "source": [
    "from relgen.evaluator import Evaluator\n",
    "\n",
    "evaluator = Evaluator(data[\"census\"], sampled_data[\"census\"]);"
   ]
  },
  {
   "cell_type": "code",
   "execution_count": null,
   "metadata": {
    "ExecuteTime": {
     "start_time": "2024-08-12T04:07:14.960Z"
    }
   },
   "outputs": [],
   "source": [
    "evaluator.eval_histogram(columns=[\"age\", \"sex\", \"relationship\"]);"
   ]
  },
  {
   "cell_type": "code",
   "execution_count": null,
   "metadata": {
    "ExecuteTime": {
     "start_time": "2024-08-12T04:07:14.960Z"
    }
   },
   "outputs": [],
   "source": [
    "evaluator.eval_tsne();"
   ]
  },
  {
   "cell_type": "code",
   "execution_count": null,
   "metadata": {},
   "outputs": [],
   "source": []
  }
 ],
 "metadata": {
  "kernelspec": {
   "display_name": "Python 3 (ipykernel)",
   "language": "python",
   "name": "python3"
  },
  "language_info": {
   "codemirror_mode": {
    "name": "ipython",
    "version": 3
   },
   "file_extension": ".py",
   "mimetype": "text/x-python",
   "name": "python",
   "nbconvert_exporter": "python",
   "pygments_lexer": "ipython3",
   "version": "3.7.1"
  },
  "toc": {
   "base_numbering": 1,
   "nav_menu": {},
   "number_sections": true,
   "sideBar": true,
   "skip_h1_title": false,
   "title_cell": "Table of Contents",
   "title_sidebar": "Contents",
   "toc_cell": false,
   "toc_position": {},
   "toc_section_display": true,
   "toc_window_display": false
  }
 },
 "nbformat": 4,
 "nbformat_minor": 1
}
