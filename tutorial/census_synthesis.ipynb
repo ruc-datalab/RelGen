{
 "cells": [
  {
   "cell_type": "code",
   "execution_count": 1,
   "metadata": {
    "ExecuteTime": {
     "end_time": "2024-08-12T06:42:16.034166Z",
     "start_time": "2024-08-12T06:42:16.025168Z"
    }
   },
   "outputs": [],
   "source": [
    "import sys\n",
    "sys.path.append(\"../\")\n",
    "import warnings\n",
    "warnings.filterwarnings(\"ignore\")\n",
    "warnings.simplefilter('ignore')"
   ]
  },
  {
   "cell_type": "markdown",
   "metadata": {},
   "source": [
    "# 1. Load metadata"
   ]
  },
  {
   "cell_type": "code",
   "execution_count": 2,
   "metadata": {
    "ExecuteTime": {
     "end_time": "2024-08-12T06:42:29.963877Z",
     "start_time": "2024-08-12T06:42:16.036102Z"
    }
   },
   "outputs": [],
   "source": [
    "from relgen.data.metadata import Metadata\n",
    "\n",
    "metadata = Metadata()\n",
    "metadata.load_from_json(\"../datasets/census/metadata.json\")"
   ]
  },
  {
   "cell_type": "markdown",
   "metadata": {},
   "source": [
    "# 2. Load data"
   ]
  },
  {
   "cell_type": "code",
   "execution_count": 3,
   "metadata": {
    "ExecuteTime": {
     "end_time": "2024-08-12T06:42:30.022300Z",
     "start_time": "2024-08-12T06:42:29.967102Z"
    }
   },
   "outputs": [],
   "source": [
    "import pandas as pd\n",
    "\n",
    "data = {\n",
    "    \"census\": pd.read_csv(\"../datasets/census/census.csv\")\n",
    "}"
   ]
  },
  {
   "cell_type": "markdown",
   "metadata": {},
   "source": [
    "# 3. Data conversion"
   ]
  },
  {
   "cell_type": "code",
   "execution_count": 4,
   "metadata": {
    "ExecuteTime": {
     "end_time": "2024-08-12T06:42:35.086310Z",
     "start_time": "2024-08-12T06:42:30.024494Z"
    }
   },
   "outputs": [],
   "source": [
    "from relgen.data.dataset import Dataset\n",
    "\n",
    "dataset = Dataset(metadata)\n",
    "dataset.fit(data)"
   ]
  },
  {
   "cell_type": "markdown",
   "metadata": {},
   "source": [
    "# 4. Data synthesizer"
   ]
  },
  {
   "cell_type": "code",
   "execution_count": 5,
   "metadata": {
    "ExecuteTime": {
     "end_time": "2024-08-12T06:43:35.247335Z",
     "start_time": "2024-08-12T06:42:35.087329Z"
    }
   },
   "outputs": [
    {
     "name": "stderr",
     "output_type": "stream",
     "text": [
      "table census start training\n",
      "epoch 0: train loss 45.618, time cost 6.140s\n",
      "epoch 1: train loss 41.903, time cost 5.957s\n",
      "epoch 2: train loss 37.047, time cost 6.011s\n",
      "epoch 3: train loss 32.995, time cost 6.000s\n",
      "epoch 4: train loss 30.702, time cost 5.997s\n",
      "epoch 5: train loss 30.024, time cost 6.006s\n",
      "epoch 6: train loss 29.503, time cost 6.008s\n",
      "epoch 7: train loss 29.217, time cost 6.017s\n",
      "epoch 8: train loss 28.990, time cost 5.945s\n",
      "epoch 9: train loss 28.462, time cost 5.935s\n",
      "table census training completed, time cost 60.023s\n"
     ]
    }
   ],
   "source": [
    "from relgen.synthesizer.arsynthesizer import MADESynthesizer\n",
    "import warnings\n",
    "warnings.filterwarnings(\"ignore\")\n",
    "warnings.simplefilter('ignore')\n",
    "synthesizer = MADESynthesizer(dataset)\n",
    "synthesizer.fit(data, epochs=10)"
   ]
  },
  {
   "cell_type": "markdown",
   "metadata": {},
   "source": [
    "# 5. Generate data"
   ]
  },
  {
   "cell_type": "code",
   "execution_count": 6,
   "metadata": {
    "ExecuteTime": {
     "end_time": "2024-08-12T06:44:02.772691Z",
     "start_time": "2024-08-12T06:43:35.248348Z"
    }
   },
   "outputs": [],
   "source": [
    "sampled_data = synthesizer.sample()"
   ]
  },
  {
   "cell_type": "markdown",
   "metadata": {},
   "source": [
    "# 6. Evaluate the generated data"
   ]
  },
  {
   "cell_type": "code",
   "execution_count": null,
   "metadata": {
    "ExecuteTime": {
     "start_time": "2024-08-12T06:42:16.029Z"
    }
   },
   "outputs": [],
   "source": [
    "from relgen.evaluator import Evaluator\n",
    "import warnings\n",
    "warnings.filterwarnings(\"ignore\")\n",
    "warnings.simplefilter('ignore')\n",
    "\n",
    "evaluator = Evaluator(data[\"census\"], sampled_data[\"census\"]);"
   ]
  },
  {
   "cell_type": "code",
   "execution_count": null,
   "metadata": {
    "ExecuteTime": {
     "start_time": "2024-08-12T06:42:16.029Z"
    }
   },
   "outputs": [],
   "source": [
    "import warnings\n",
    "warnings.filterwarnings(\"ignore\")\n",
    "warnings.simplefilter('ignore')\n",
    "evaluator.eval_histogram(columns=[\"age\", \"sex\", \"relationship\"]);"
   ]
  },
  {
   "cell_type": "code",
   "execution_count": null,
   "metadata": {
    "ExecuteTime": {
     "start_time": "2024-08-12T06:42:16.030Z"
    }
   },
   "outputs": [],
   "source": [
    "evaluator.eval_tsne();"
   ]
  },
  {
   "cell_type": "code",
   "execution_count": null,
   "metadata": {},
   "outputs": [],
   "source": []
  }
 ],
 "metadata": {
  "kernelspec": {
   "display_name": "Python 3 (ipykernel)",
   "language": "python",
   "name": "python3"
  },
  "language_info": {
   "codemirror_mode": {
    "name": "ipython",
    "version": 3
   },
   "file_extension": ".py",
   "mimetype": "text/x-python",
   "name": "python",
   "nbconvert_exporter": "python",
   "pygments_lexer": "ipython3",
   "version": "3.7.1"
  },
  "toc": {
   "base_numbering": 1,
   "nav_menu": {},
   "number_sections": true,
   "sideBar": true,
   "skip_h1_title": false,
   "title_cell": "Table of Contents",
   "title_sidebar": "Contents",
   "toc_cell": false,
   "toc_position": {},
   "toc_section_display": true,
   "toc_window_display": false
  }
 },
 "nbformat": 4,
 "nbformat_minor": 1
}
