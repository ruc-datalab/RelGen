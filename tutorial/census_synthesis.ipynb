{
 "cells": [
  {
   "cell_type": "code",
   "execution_count": 1,
   "metadata": {
    "ExecuteTime": {
     "end_time": "2024-08-12T06:59:31.408716Z",
     "start_time": "2024-08-12T06:59:31.399507Z"
    }
   },
   "outputs": [],
   "source": [
    "import sys\n",
    "sys.path.append(\"../\")\n",
    "import warnings\n",
    "warnings.filterwarnings(\"ignore\")\n",
    "warnings.simplefilter('ignore')"
   ]
  },
  {
   "cell_type": "markdown",
   "metadata": {},
   "source": [
    "# 1. Load meta-data from JSON files"
   ]
  },
  {
   "cell_type": "code",
   "execution_count": 2,
   "metadata": {
    "ExecuteTime": {
     "end_time": "2024-08-12T06:59:32.819333Z",
     "start_time": "2024-08-12T06:59:31.410769Z"
    }
   },
   "outputs": [],
   "source": [
    "from relgen.data.metadata import Metadata\n",
    "\n",
    "metadata = Metadata()\n",
    "metadata.load_from_json(\"../datasets/census/metadata.json\")"
   ]
  },
  {
   "cell_type": "markdown",
   "metadata": {},
   "source": [
    "# 2. Load data from CSV files"
   ]
  },
  {
   "cell_type": "code",
   "execution_count": 3,
   "metadata": {
    "ExecuteTime": {
     "end_time": "2024-08-12T06:59:32.835309Z",
     "start_time": "2024-08-12T06:59:32.820381Z"
    }
   },
   "outputs": [],
   "source": [
    "import pandas as pd\n",
    "\n",
    "data = {\n",
    "    \"census\": pd.read_csv(\"../datasets/census/census.csv\")\n",
    "}"
   ]
  },
  {
   "cell_type": "markdown",
   "metadata": {},
   "source": [
    "# 3. Initialize a `Dataset` instance"
   ]
  },
  {
   "cell_type": "code",
   "execution_count": 4,
   "metadata": {
    "ExecuteTime": {
     "end_time": "2024-08-12T06:59:32.943768Z",
     "start_time": "2024-08-12T06:59:32.836865Z"
    }
   },
   "outputs": [],
   "source": [
    "from relgen.data.dataset import Dataset\n",
    "\n",
    "dataset = Dataset(metadata)\n",
    "dataset.fit(data)"
   ]
  },
  {
   "cell_type": "markdown",
   "metadata": {},
   "source": [
    "# 4. Select and train a data synthesizer"
   ]
  },
  {
   "cell_type": "code",
   "execution_count": null,
   "metadata": {
    "ExecuteTime": {
     "start_time": "2024-08-12T06:59:31.399Z"
    }
   },
   "outputs": [
    {
     "name": "stderr",
     "output_type": "stream",
     "text": [
      "table census start training\n",
      "epoch 0: train loss 45.324, time cost 6.059s\n",
      "epoch 1: train loss 41.249, time cost 5.999s\n",
      "epoch 2: train loss 36.753, time cost 5.985s\n"
     ]
    }
   ],
   "source": [
    "from relgen.synthesizer.arsynthesizer import MADESynthesizer\n",
    "import warnings\n",
    "warnings.filterwarnings(\"ignore\")\n",
    "warnings.simplefilter('ignore')\n",
    "synthesizer = MADESynthesizer(dataset)\n",
    "synthesizer.fit(data, epochs=10)"
   ]
  },
  {
   "cell_type": "markdown",
   "metadata": {},
   "source": [
    "# 5. Generate synthetic data using the data synthesizer"
   ]
  },
  {
   "cell_type": "code",
   "execution_count": null,
   "metadata": {
    "ExecuteTime": {
     "start_time": "2024-08-12T06:59:31.400Z"
    }
   },
   "outputs": [],
   "source": [
    "sampled_data = synthesizer.sample()"
   ]
  },
  {
   "cell_type": "markdown",
   "metadata": {},
   "source": [
    "# 6. Evaluate the synthetic data using various metrics"
   ]
  },
  {
   "cell_type": "code",
   "execution_count": null,
   "metadata": {
    "ExecuteTime": {
     "start_time": "2024-08-12T06:59:31.400Z"
    }
   },
   "outputs": [],
   "source": [
    "from relgen.evaluator import Evaluator\n",
    "\n",
    "evaluator = Evaluator(data[\"census\"], sampled_data[\"census\"])"
   ]
  },
  {
   "cell_type": "code",
   "execution_count": null,
   "metadata": {
    "ExecuteTime": {
     "start_time": "2024-08-12T06:59:31.400Z"
    }
   },
   "outputs": [],
   "source": [
    "import warnings\n",
    "warnings.filterwarnings(\"ignore\")\n",
    "warnings.simplefilter('ignore')\n",
    "evaluator.eval_histogram(columns=[\"age\", \"sex\", \"relationship\"])"
   ]
  },
  {
   "cell_type": "code",
   "execution_count": null,
   "metadata": {
    "ExecuteTime": {
     "start_time": "2024-08-12T06:59:31.401Z"
    }
   },
   "outputs": [],
   "source": [
    "evaluator.eval_tsne()"
   ]
  }
 ],
 "metadata": {
  "kernelspec": {
   "display_name": "Python 3 (ipykernel)",
   "language": "python",
   "name": "python3"
  },
  "language_info": {
   "codemirror_mode": {
    "name": "ipython",
    "version": 3
   },
   "file_extension": ".py",
   "mimetype": "text/x-python",
   "name": "python",
   "nbconvert_exporter": "python",
   "pygments_lexer": "ipython3",
   "version": "3.7.1"
  },
  "toc": {
   "base_numbering": 1,
   "nav_menu": {},
   "number_sections": true,
   "sideBar": true,
   "skip_h1_title": false,
   "title_cell": "Table of Contents",
   "title_sidebar": "Contents",
   "toc_cell": false,
   "toc_position": {},
   "toc_section_display": true,
   "toc_window_display": false
  }
 },
 "nbformat": 4,
 "nbformat_minor": 1
}
